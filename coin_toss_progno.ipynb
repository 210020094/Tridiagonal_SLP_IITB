{
 "cells": [
  {
   "cell_type": "code",
   "execution_count": 1,
   "metadata": {},
   "outputs": [],
   "source": [
    "import numpy as np\n",
    "import matplotlib.pyplot as plt\n",
    "import pandas as pd\n",
    "from scipy.optimize import minimize"
   ]
  },
  {
   "cell_type": "code",
   "execution_count": 22,
   "metadata": {},
   "outputs": [
    {
     "data": {
      "text/html": [
       "<div>\n",
       "<style scoped>\n",
       "    .dataframe tbody tr th:only-of-type {\n",
       "        vertical-align: middle;\n",
       "    }\n",
       "\n",
       "    .dataframe tbody tr th {\n",
       "        vertical-align: top;\n",
       "    }\n",
       "\n",
       "    .dataframe thead th {\n",
       "        text-align: right;\n",
       "    }\n",
       "</style>\n",
       "<table border=\"1\" class=\"dataframe\">\n",
       "  <thead>\n",
       "    <tr style=\"text-align: right;\">\n",
       "      <th></th>\n",
       "      <th>Batch Status</th>\n",
       "      <th>Cycle End Time</th>\n",
       "      <th>DataLabel</th>\n",
       "      <th>Program Number</th>\n",
       "    </tr>\n",
       "  </thead>\n",
       "  <tbody>\n",
       "    <tr>\n",
       "      <th>0</th>\n",
       "      <td>FAILED</td>\n",
       "      <td>2019-01-09 09:42:00</td>\n",
       "      <td>1</td>\n",
       "      <td>8</td>\n",
       "    </tr>\n",
       "    <tr>\n",
       "      <th>1</th>\n",
       "      <td>OK</td>\n",
       "      <td>2019-01-09 11:30:00</td>\n",
       "      <td>2</td>\n",
       "      <td>8</td>\n",
       "    </tr>\n",
       "    <tr>\n",
       "      <th>2</th>\n",
       "      <td>OK</td>\n",
       "      <td>2019-01-09 12:32:00</td>\n",
       "      <td>3</td>\n",
       "      <td>3</td>\n",
       "    </tr>\n",
       "    <tr>\n",
       "      <th>3</th>\n",
       "      <td>OK</td>\n",
       "      <td>2019-01-09 14:00:00</td>\n",
       "      <td>4</td>\n",
       "      <td>11</td>\n",
       "    </tr>\n",
       "    <tr>\n",
       "      <th>4</th>\n",
       "      <td>OK</td>\n",
       "      <td>2019-01-09 16:10:00</td>\n",
       "      <td>5</td>\n",
       "      <td>10</td>\n",
       "    </tr>\n",
       "  </tbody>\n",
       "</table>\n",
       "</div>"
      ],
      "text/plain": [
       "  Batch Status       Cycle End Time  DataLabel  Program Number\n",
       "0       FAILED  2019-01-09 09:42:00          1               8\n",
       "1           OK  2019-01-09 11:30:00          2               8\n",
       "2           OK  2019-01-09 12:32:00          3               3\n",
       "3           OK  2019-01-09 14:00:00          4              11\n",
       "4           OK  2019-01-09 16:10:00          5              10"
      ]
     },
     "execution_count": 22,
     "metadata": {},
     "output_type": "execute_result"
    }
   ],
   "source": [
    "df = pd.read_csv('OK FAIL DATE.csv')\n",
    "df.head()"
   ]
  },
  {
   "cell_type": "code",
   "execution_count": 23,
   "metadata": {},
   "outputs": [],
   "source": [
    "# relabel Emergency Failure in Batch status as FAILED\n",
    "df['Batch Status'] = df['Batch Status'].replace('Emergency Failure', 'FAILED')"
   ]
  },
  {
   "cell_type": "code",
   "execution_count": 24,
   "metadata": {},
   "outputs": [
    {
     "data": {
      "text/plain": [
       "OK             1507\n",
       "Maintenance     247\n",
       "FAILED          106\n",
       "Name: Batch Status, dtype: int64"
      ]
     },
     "execution_count": 24,
     "metadata": {},
     "output_type": "execute_result"
    }
   ],
   "source": [
    "# no. of unique counts in batch status\n",
    "df['Batch Status'].value_counts()"
   ]
  },
  {
   "cell_type": "code",
   "execution_count": 25,
   "metadata": {},
   "outputs": [
    {
     "data": {
      "text/html": [
       "<div>\n",
       "<style scoped>\n",
       "    .dataframe tbody tr th:only-of-type {\n",
       "        vertical-align: middle;\n",
       "    }\n",
       "\n",
       "    .dataframe tbody tr th {\n",
       "        vertical-align: top;\n",
       "    }\n",
       "\n",
       "    .dataframe thead th {\n",
       "        text-align: right;\n",
       "    }\n",
       "</style>\n",
       "<table border=\"1\" class=\"dataframe\">\n",
       "  <thead>\n",
       "    <tr style=\"text-align: right;\">\n",
       "      <th>Batch Status</th>\n",
       "      <th>FAILED</th>\n",
       "      <th>Maintenance</th>\n",
       "      <th>OK</th>\n",
       "    </tr>\n",
       "    <tr>\n",
       "      <th>Program Number</th>\n",
       "      <th></th>\n",
       "      <th></th>\n",
       "      <th></th>\n",
       "    </tr>\n",
       "  </thead>\n",
       "  <tbody>\n",
       "    <tr>\n",
       "      <th>1</th>\n",
       "      <td>5.0</td>\n",
       "      <td>159.0</td>\n",
       "      <td>0.0</td>\n",
       "    </tr>\n",
       "    <tr>\n",
       "      <th>2</th>\n",
       "      <td>13.0</td>\n",
       "      <td>88.0</td>\n",
       "      <td>0.0</td>\n",
       "    </tr>\n",
       "    <tr>\n",
       "      <th>3</th>\n",
       "      <td>2.0</td>\n",
       "      <td>0.0</td>\n",
       "      <td>15.0</td>\n",
       "    </tr>\n",
       "    <tr>\n",
       "      <th>4</th>\n",
       "      <td>1.0</td>\n",
       "      <td>0.0</td>\n",
       "      <td>3.0</td>\n",
       "    </tr>\n",
       "    <tr>\n",
       "      <th>5</th>\n",
       "      <td>3.0</td>\n",
       "      <td>0.0</td>\n",
       "      <td>20.0</td>\n",
       "    </tr>\n",
       "    <tr>\n",
       "      <th>6</th>\n",
       "      <td>0.0</td>\n",
       "      <td>0.0</td>\n",
       "      <td>3.0</td>\n",
       "    </tr>\n",
       "    <tr>\n",
       "      <th>7</th>\n",
       "      <td>1.0</td>\n",
       "      <td>0.0</td>\n",
       "      <td>2.0</td>\n",
       "    </tr>\n",
       "    <tr>\n",
       "      <th>8</th>\n",
       "      <td>7.0</td>\n",
       "      <td>0.0</td>\n",
       "      <td>70.0</td>\n",
       "    </tr>\n",
       "    <tr>\n",
       "      <th>9</th>\n",
       "      <td>1.0</td>\n",
       "      <td>0.0</td>\n",
       "      <td>3.0</td>\n",
       "    </tr>\n",
       "    <tr>\n",
       "      <th>10</th>\n",
       "      <td>1.0</td>\n",
       "      <td>0.0</td>\n",
       "      <td>3.0</td>\n",
       "    </tr>\n",
       "    <tr>\n",
       "      <th>11</th>\n",
       "      <td>13.0</td>\n",
       "      <td>0.0</td>\n",
       "      <td>20.0</td>\n",
       "    </tr>\n",
       "    <tr>\n",
       "      <th>12</th>\n",
       "      <td>2.0</td>\n",
       "      <td>0.0</td>\n",
       "      <td>377.0</td>\n",
       "    </tr>\n",
       "    <tr>\n",
       "      <th>13</th>\n",
       "      <td>2.0</td>\n",
       "      <td>0.0</td>\n",
       "      <td>6.0</td>\n",
       "    </tr>\n",
       "    <tr>\n",
       "      <th>14</th>\n",
       "      <td>0.0</td>\n",
       "      <td>0.0</td>\n",
       "      <td>3.0</td>\n",
       "    </tr>\n",
       "    <tr>\n",
       "      <th>15</th>\n",
       "      <td>0.0</td>\n",
       "      <td>0.0</td>\n",
       "      <td>1.0</td>\n",
       "    </tr>\n",
       "    <tr>\n",
       "      <th>16</th>\n",
       "      <td>16.0</td>\n",
       "      <td>0.0</td>\n",
       "      <td>504.0</td>\n",
       "    </tr>\n",
       "    <tr>\n",
       "      <th>17</th>\n",
       "      <td>21.0</td>\n",
       "      <td>0.0</td>\n",
       "      <td>453.0</td>\n",
       "    </tr>\n",
       "    <tr>\n",
       "      <th>20</th>\n",
       "      <td>5.0</td>\n",
       "      <td>0.0</td>\n",
       "      <td>7.0</td>\n",
       "    </tr>\n",
       "    <tr>\n",
       "      <th>21</th>\n",
       "      <td>13.0</td>\n",
       "      <td>0.0</td>\n",
       "      <td>17.0</td>\n",
       "    </tr>\n",
       "  </tbody>\n",
       "</table>\n",
       "</div>"
      ],
      "text/plain": [
       "Batch Status    FAILED  Maintenance     OK\n",
       "Program Number                            \n",
       "1                  5.0        159.0    0.0\n",
       "2                 13.0         88.0    0.0\n",
       "3                  2.0          0.0   15.0\n",
       "4                  1.0          0.0    3.0\n",
       "5                  3.0          0.0   20.0\n",
       "6                  0.0          0.0    3.0\n",
       "7                  1.0          0.0    2.0\n",
       "8                  7.0          0.0   70.0\n",
       "9                  1.0          0.0    3.0\n",
       "10                 1.0          0.0    3.0\n",
       "11                13.0          0.0   20.0\n",
       "12                 2.0          0.0  377.0\n",
       "13                 2.0          0.0    6.0\n",
       "14                 0.0          0.0    3.0\n",
       "15                 0.0          0.0    1.0\n",
       "16                16.0          0.0  504.0\n",
       "17                21.0          0.0  453.0\n",
       "20                 5.0          0.0    7.0\n",
       "21                13.0          0.0   17.0"
      ]
     },
     "execution_count": 25,
     "metadata": {},
     "output_type": "execute_result"
    }
   ],
   "source": [
    "# print a dataframe giving number of failed  OK and Maintenance batches in each program number \n",
    "df.groupby(['Program Number', 'Batch Status']).size().unstack().fillna(0)\n"
   ]
  },
  {
   "cell_type": "code",
   "execution_count": 26,
   "metadata": {},
   "outputs": [],
   "source": [
    "# combine Program number 9 10 11 and label it as A\n",
    "df['Program Number'] = df['Program Number'].replace([3,4,5,6,7,8,9, 10, 11,13,14,15,20,21], 'A')"
   ]
  },
  {
   "cell_type": "code",
   "execution_count": 27,
   "metadata": {},
   "outputs": [],
   "source": [
    "\n",
    "df['Program Number'] = df['Program Number'].replace([12,16,17], 'B')\n",
    "\n",
    "df['Program Number'] = df['Program Number'].replace([1,2], 'M')"
   ]
  },
  {
   "cell_type": "markdown",
   "metadata": {},
   "source": []
  },
  {
   "cell_type": "code",
   "execution_count": 28,
   "metadata": {},
   "outputs": [
    {
     "data": {
      "text/plain": [
       "array(['A', 'M', 'B'], dtype=object)"
      ]
     },
     "execution_count": 28,
     "metadata": {},
     "output_type": "execute_result"
    }
   ],
   "source": [
    "# print unique values in program number \n",
    "df['Program Number'].unique()"
   ]
  },
  {
   "cell_type": "code",
   "execution_count": 29,
   "metadata": {},
   "outputs": [],
   "source": [
    "# if program number is M and batch status is FAILED then update the program number as A\n",
    "df.loc[(df['Program Number'] == 'M') & (df['Batch Status'] == 'FAILED'), 'Program Number'] = 'A'"
   ]
  },
  {
   "cell_type": "code",
   "execution_count": 30,
   "metadata": {},
   "outputs": [
    {
     "data": {
      "text/html": [
       "<div>\n",
       "<style scoped>\n",
       "    .dataframe tbody tr th:only-of-type {\n",
       "        vertical-align: middle;\n",
       "    }\n",
       "\n",
       "    .dataframe tbody tr th {\n",
       "        vertical-align: top;\n",
       "    }\n",
       "\n",
       "    .dataframe thead th {\n",
       "        text-align: right;\n",
       "    }\n",
       "</style>\n",
       "<table border=\"1\" class=\"dataframe\">\n",
       "  <thead>\n",
       "    <tr style=\"text-align: right;\">\n",
       "      <th></th>\n",
       "      <th>Batch Status</th>\n",
       "      <th>Cycle End Time</th>\n",
       "      <th>DataLabel</th>\n",
       "      <th>Program Number</th>\n",
       "    </tr>\n",
       "  </thead>\n",
       "  <tbody>\n",
       "    <tr>\n",
       "      <th>0</th>\n",
       "      <td>FAILED</td>\n",
       "      <td>2019-01-09 09:42:00</td>\n",
       "      <td>1</td>\n",
       "      <td>A</td>\n",
       "    </tr>\n",
       "    <tr>\n",
       "      <th>1</th>\n",
       "      <td>OK</td>\n",
       "      <td>2019-01-09 11:30:00</td>\n",
       "      <td>2</td>\n",
       "      <td>A</td>\n",
       "    </tr>\n",
       "    <tr>\n",
       "      <th>2</th>\n",
       "      <td>OK</td>\n",
       "      <td>2019-01-09 12:32:00</td>\n",
       "      <td>3</td>\n",
       "      <td>A</td>\n",
       "    </tr>\n",
       "    <tr>\n",
       "      <th>3</th>\n",
       "      <td>OK</td>\n",
       "      <td>2019-01-09 14:00:00</td>\n",
       "      <td>4</td>\n",
       "      <td>A</td>\n",
       "    </tr>\n",
       "    <tr>\n",
       "      <th>4</th>\n",
       "      <td>OK</td>\n",
       "      <td>2019-01-09 16:10:00</td>\n",
       "      <td>5</td>\n",
       "      <td>A</td>\n",
       "    </tr>\n",
       "  </tbody>\n",
       "</table>\n",
       "</div>"
      ],
      "text/plain": [
       "  Batch Status       Cycle End Time  DataLabel Program Number\n",
       "0       FAILED  2019-01-09 09:42:00          1              A\n",
       "1           OK  2019-01-09 11:30:00          2              A\n",
       "2           OK  2019-01-09 12:32:00          3              A\n",
       "3           OK  2019-01-09 14:00:00          4              A\n",
       "4           OK  2019-01-09 16:10:00          5              A"
      ]
     },
     "execution_count": 30,
     "metadata": {},
     "output_type": "execute_result"
    }
   ],
   "source": [
    "df.head()"
   ]
  },
  {
   "cell_type": "code",
   "execution_count": 31,
   "metadata": {},
   "outputs": [],
   "source": [
    "# Convert 'Time' column to datetime format\n",
    "df['Cycle End Time'] = pd.to_datetime(df['Cycle End Time'])\n",
    "\n",
    "# Extract year from datetime and create a new column\n",
    "df['Year'] = df['Cycle End Time'].dt.year\n"
   ]
  },
  {
   "cell_type": "code",
   "execution_count": null,
   "metadata": {},
   "outputs": [],
   "source": []
  },
  {
   "cell_type": "code",
   "execution_count": 32,
   "metadata": {},
   "outputs": [],
   "source": [
    "# # Function to calculate negative log-likelihood for given parameters\n",
    "def neg_log_likelihood(p, a):\n",
    "    \n",
    "    initial_p = p\n",
    "    neg_log_likelihood_val = 0\n",
    "    prev_status = 0  # Initializing prev_status to 0 as per your description\n",
    "    for status in df['Batch Status']:\n",
    "        if status == 'FAILED': \n",
    "            neg_log_likelihood_val -= np.log(1 - p)\n",
    "            p *= a \n",
    "        elif status == 'OK': \n",
    "            neg_log_likelihood_val -= np.log(p)\n",
    "            p *= a  # Update p for next OK status\n",
    "        elif status == 'Maintenance': \n",
    "            p = initial_p  # Reset p to initial value\n",
    "        prev_status = status\n",
    "    return neg_log_likelihood_val"
   ]
  },
  {
   "cell_type": "code",
   "execution_count": 33,
   "metadata": {},
   "outputs": [
    {
     "name": "stdout",
     "output_type": "stream",
     "text": [
      "Best Parameters (p, a): (0.9600000000000001, 0.99)\n"
     ]
    }
   ],
   "source": [
    "import numpy as np\n",
    "\n",
    "# Assuming a_values and p_values are defined as follows\n",
    "a_values = np.arange(0.01, 1, 0.01)\n",
    "p_values = np.arange(0.01, 1, 0.01)\n",
    "\n",
    "# Initialize variables to store the best parameters for the entire dataset\n",
    "min_neg_log_likelihood = float('inf')\n",
    "best_params = None\n",
    "\n",
    "# Iterate over all combinations of 'a' and 'p' for the entire dataset\n",
    "for a in a_values:\n",
    "    for p in p_values:\n",
    "        # Calculate negative log-likelihood for current parameters\n",
    "        current_neg_log_likelihood = neg_log_likelihood(p, a)\n",
    "\n",
    "        # Check if current negative log-likelihood is smaller than minimum found so far\n",
    "        if current_neg_log_likelihood < min_neg_log_likelihood:\n",
    "            min_neg_log_likelihood = current_neg_log_likelihood\n",
    "            best_params = (p, a)\n",
    "\n",
    "# Output the best parameters for the entire dataset\n",
    "print(\"Best Parameters (p, a):\", best_params)\n"
   ]
  },
  {
   "cell_type": "code",
   "execution_count": 16,
   "metadata": {},
   "outputs": [],
   "source": [
    "# # Function to calculate negative log-likelihood for given parameters and year\n",
    "# def neg_log_likelihood(p, a_dict, year):\n",
    "#     initial_p = p\n",
    "#     neg_log_likelihood_val = 0\n",
    "#     prev_status = 0  # Initializing prev_status to 0 as per your description\n",
    "#     for i, (status, data_year) in enumerate(zip(train_data['Batch Status'], train_data['Year'])):\n",
    "#         if data_year != year:  # Skip data points not belonging to the current year\n",
    "#             continue\n",
    "        \n",
    "#         if status == 'FAILED':\n",
    "#             neg_log_likelihood_val -= np.log(1 - p)\n",
    "#             p *= a_dict[train_data['Program Number'][i]]  # Update p using corresponding 'a' value\n",
    "#         elif status == 'OK':\n",
    "#             neg_log_likelihood_val -= np.log(p)\n",
    "#             p *= a_dict[train_data['Program Number'][i]]  # Update p using corresponding 'a' value\n",
    "#         elif status == 'Maintenance':\n",
    "#             p = initial_p  # Reset p to initial value\n",
    "#         prev_status = status\n",
    "#     return neg_log_likelihood_val\n"
   ]
  },
  {
   "cell_type": "code",
   "execution_count": 20,
   "metadata": {},
   "outputs": [],
   "source": [
    "# p_values = np.arange(0.5, 1, 0.01)\n",
    "# a1_values = np.arange(0.5, 1, 0.01)\n",
    "# a2_values = np.arange(0.5, 1, 0.01)\n",
    "# a3_values = np.arange(0.5, 1, 0.01)"
   ]
  },
  {
   "cell_type": "code",
   "execution_count": 21,
   "metadata": {},
   "outputs": [
    {
     "name": "stdout",
     "output_type": "stream",
     "text": [
      "Year: 2019, Best Parameters (p, a_values): (0.7800000000000002, {'A': 0.9900000000000004, 'B': 0.9900000000000004})\n",
      "Year: 2020, Best Parameters (p, a_values): (0.9600000000000004, {'A': 0.9900000000000004, 'B': 0.9900000000000004})\n",
      "Year: 2021, Best Parameters (p, a_values): (0.5, {'A': 0.5, 'B': 0.5})\n"
     ]
    }
   ],
   "source": [
    "# # Initialize variables to store the best parameters for each year\n",
    "# best_params_by_year = {}\n",
    "\n",
    "# # Iterate over unique years\n",
    "# for year in [2019, 2020, 2021]:  # Assuming these are the years of interest\n",
    "#     # Initialize variables to store the minimum negative log-likelihood value and corresponding parameters for the current year\n",
    "#     min_neg_log_likelihood_year = float('inf')\n",
    "#     best_params_year = None\n",
    "    \n",
    "#     # Iterate over all combinations of a1, a2, and p for the current year\n",
    "#     for a1 in a1_values:\n",
    "#         for a2 in a2_values:\n",
    "#             for p in p_values:\n",
    "#                 # Define the 'a' values dictionary for the current combination\n",
    "#                 a_values = {'A': a1, 'B': a2}\n",
    "\n",
    "#                 # Calculate negative log-likelihood for current parameters and current year\n",
    "#                 current_neg_log_likelihood = neg_log_likelihood(p, a_values, year)\n",
    "\n",
    "#                 # Check if current negative log-likelihood is smaller than minimum found so far for the current year\n",
    "#                 if current_neg_log_likelihood < min_neg_log_likelihood_year:\n",
    "#                     min_neg_log_likelihood_year = current_neg_log_likelihood\n",
    "#                     best_params_year = (p, a_values)\n",
    "    \n",
    "#     # Store the best parameters for the current year\n",
    "#     best_params_by_year[year] = best_params_year\n",
    "\n",
    "# # Output the best parameters for each year\n",
    "# for year, params in best_params_by_year.items():\n",
    "#     print(f\"Year: {year}, Best Parameters (p, a_values): {params}\")\n"
   ]
  },
  {
   "cell_type": "code",
   "execution_count": 19,
   "metadata": {},
   "outputs": [
    {
     "name": "stdout",
     "output_type": "stream",
     "text": [
      "Minimum Negative Log-Likelihood: 359.3315898567369\n",
      "Best Parameters (p, a): (0.9500000000000001, {'A': 0.99, 'B': 0.99})\n"
     ]
    }
   ],
   "source": [
    "\n",
    "# # # Output the minimum negative log-likelihood value and corresponding parameters\n",
    "# print(\"Minimum Negative Log-Likelihood:\", min_neg_log_likelihood)\n",
    "# print(\"Best Parameters (p, a):\", best_params)\n"
   ]
  },
  {
   "cell_type": "code",
   "execution_count": 49,
   "metadata": {},
   "outputs": [
    {
     "name": "stderr",
     "output_type": "stream",
     "text": [
      "C:\\Users\\91751\\AppData\\Local\\Temp\\ipykernel_1528\\2968149326.py:9: SettingWithCopyWarning: \n",
      "A value is trying to be set on a copy of a slice from a DataFrame\n",
      "\n",
      "See the caveats in the documentation: https://pandas.pydata.org/pandas-docs/stable/user_guide/indexing.html#returning-a-view-versus-a-copy\n",
      "  df['Probability'][i] = p\n"
     ]
    }
   ],
   "source": [
    "# Initialize a new column 'Probability' with initial values\n",
    "df['Probability'] = 0\n",
    "a = best_params[1]\n",
    "p = best_params[0]\n",
    "initial_p = p\n",
    "# make a new column 'Probability' and fill it with the probability values and reset the probability value to initial value when maintenance is encountered else keep multiplying the probability value with a\n",
    "for i, status in enumerate(df['Batch Status']):\n",
    "    if status == 'FAILED':\n",
    "        df['Probability'][i] = p\n",
    "        p *= a\n",
    "    elif status == 'OK':\n",
    "        df['Probability'][i] = p\n",
    "        p *= a\n",
    "    elif status == 'Maintenance':\n",
    "        p = initial_p\n",
    "        df['Probability'][i] = p"
   ]
  },
  {
   "cell_type": "code",
   "execution_count": 50,
   "metadata": {},
   "outputs": [
    {
     "data": {
      "text/html": [
       "<div>\n",
       "<style scoped>\n",
       "    .dataframe tbody tr th:only-of-type {\n",
       "        vertical-align: middle;\n",
       "    }\n",
       "\n",
       "    .dataframe tbody tr th {\n",
       "        vertical-align: top;\n",
       "    }\n",
       "\n",
       "    .dataframe thead th {\n",
       "        text-align: right;\n",
       "    }\n",
       "</style>\n",
       "<table border=\"1\" class=\"dataframe\">\n",
       "  <thead>\n",
       "    <tr style=\"text-align: right;\">\n",
       "      <th></th>\n",
       "      <th>Batch Status</th>\n",
       "      <th>Cycle End Time</th>\n",
       "      <th>DataLabel</th>\n",
       "      <th>Program Number</th>\n",
       "      <th>Year</th>\n",
       "      <th>Probability</th>\n",
       "      <th>Predicted Batch Status</th>\n",
       "    </tr>\n",
       "  </thead>\n",
       "  <tbody>\n",
       "    <tr>\n",
       "      <th>0</th>\n",
       "      <td>FAILED</td>\n",
       "      <td>2019-01-09 09:42:00</td>\n",
       "      <td>1</td>\n",
       "      <td>A</td>\n",
       "      <td>2019</td>\n",
       "      <td>0.960000</td>\n",
       "      <td>OK</td>\n",
       "    </tr>\n",
       "    <tr>\n",
       "      <th>1</th>\n",
       "      <td>OK</td>\n",
       "      <td>2019-01-09 11:30:00</td>\n",
       "      <td>2</td>\n",
       "      <td>A</td>\n",
       "      <td>2019</td>\n",
       "      <td>0.950400</td>\n",
       "      <td>OK</td>\n",
       "    </tr>\n",
       "    <tr>\n",
       "      <th>2</th>\n",
       "      <td>OK</td>\n",
       "      <td>2019-01-09 12:32:00</td>\n",
       "      <td>3</td>\n",
       "      <td>A</td>\n",
       "      <td>2019</td>\n",
       "      <td>0.940896</td>\n",
       "      <td>OK</td>\n",
       "    </tr>\n",
       "    <tr>\n",
       "      <th>3</th>\n",
       "      <td>OK</td>\n",
       "      <td>2019-01-09 14:00:00</td>\n",
       "      <td>4</td>\n",
       "      <td>A</td>\n",
       "      <td>2019</td>\n",
       "      <td>0.931487</td>\n",
       "      <td>OK</td>\n",
       "    </tr>\n",
       "    <tr>\n",
       "      <th>4</th>\n",
       "      <td>OK</td>\n",
       "      <td>2019-01-09 16:10:00</td>\n",
       "      <td>5</td>\n",
       "      <td>A</td>\n",
       "      <td>2019</td>\n",
       "      <td>0.922172</td>\n",
       "      <td>OK</td>\n",
       "    </tr>\n",
       "  </tbody>\n",
       "</table>\n",
       "</div>"
      ],
      "text/plain": [
       "  Batch Status      Cycle End Time  DataLabel Program Number  Year  \\\n",
       "0       FAILED 2019-01-09 09:42:00          1              A  2019   \n",
       "1           OK 2019-01-09 11:30:00          2              A  2019   \n",
       "2           OK 2019-01-09 12:32:00          3              A  2019   \n",
       "3           OK 2019-01-09 14:00:00          4              A  2019   \n",
       "4           OK 2019-01-09 16:10:00          5              A  2019   \n",
       "\n",
       "   Probability Predicted Batch Status  \n",
       "0     0.960000                     OK  \n",
       "1     0.950400                     OK  \n",
       "2     0.940896                     OK  \n",
       "3     0.931487                     OK  \n",
       "4     0.922172                     OK  "
      ]
     },
     "execution_count": 50,
     "metadata": {},
     "output_type": "execute_result"
    }
   ],
   "source": [
    "# print the dataframe\n",
    "df.head()"
   ]
  },
  {
   "cell_type": "code",
   "execution_count": 51,
   "metadata": {},
   "outputs": [
    {
     "name": "stdout",
     "output_type": "stream",
     "text": [
      "     Batch Status  Probability\n",
      "0          FAILED     0.960000\n",
      "1              OK     0.950400\n",
      "2              OK     0.940896\n",
      "3              OK     0.931487\n",
      "4              OK     0.922172\n",
      "...           ...          ...\n",
      "1855           OK     0.817399\n",
      "1856  Maintenance     0.960000\n",
      "1857           OK     0.960000\n",
      "1858           OK     0.950400\n",
      "1859           OK     0.940896\n",
      "\n",
      "[1860 rows x 2 columns]\n"
     ]
    }
   ],
   "source": [
    "print(df[['Batch Status', 'Probability']])"
   ]
  },
  {
   "cell_type": "code",
   "execution_count": 52,
   "metadata": {},
   "outputs": [
    {
     "data": {
      "text/plain": [
       "<AxesSubplot:>"
      ]
     },
     "execution_count": 52,
     "metadata": {},
     "output_type": "execute_result"
    },
    {
     "data": {
      "image/png": "[encoded data removed]",
      "text/plain": [
       "<Figure size 640x480 with 1 Axes>"
      ]
     },
     "metadata": {},
     "output_type": "display_data"
    }
   ],
   "source": [
    "df['Probability'].plot()"
   ]
  },
  {
   "cell_type": "code",
   "execution_count": 53,
   "metadata": {},
   "outputs": [
    {
     "data": {
      "text/html": [
       "<div>\n",
       "<style scoped>\n",
       "    .dataframe tbody tr th:only-of-type {\n",
       "        vertical-align: middle;\n",
       "    }\n",
       "\n",
       "    .dataframe tbody tr th {\n",
       "        vertical-align: top;\n",
       "    }\n",
       "\n",
       "    .dataframe thead th {\n",
       "        text-align: right;\n",
       "    }\n",
       "</style>\n",
       "<table border=\"1\" class=\"dataframe\">\n",
       "  <thead>\n",
       "    <tr style=\"text-align: right;\">\n",
       "      <th></th>\n",
       "      <th>Batch Status</th>\n",
       "      <th>Probability</th>\n",
       "    </tr>\n",
       "  </thead>\n",
       "  <tbody>\n",
       "    <tr>\n",
       "      <th>15</th>\n",
       "      <td>Maintenance</td>\n",
       "      <td>0.96</td>\n",
       "    </tr>\n",
       "    <tr>\n",
       "      <th>16</th>\n",
       "      <td>Maintenance</td>\n",
       "      <td>0.96</td>\n",
       "    </tr>\n",
       "    <tr>\n",
       "      <th>28</th>\n",
       "      <td>Maintenance</td>\n",
       "      <td>0.96</td>\n",
       "    </tr>\n",
       "    <tr>\n",
       "      <th>29</th>\n",
       "      <td>Maintenance</td>\n",
       "      <td>0.96</td>\n",
       "    </tr>\n",
       "    <tr>\n",
       "      <th>30</th>\n",
       "      <td>Maintenance</td>\n",
       "      <td>0.96</td>\n",
       "    </tr>\n",
       "    <tr>\n",
       "      <th>...</th>\n",
       "      <td>...</td>\n",
       "      <td>...</td>\n",
       "    </tr>\n",
       "    <tr>\n",
       "      <th>1799</th>\n",
       "      <td>Maintenance</td>\n",
       "      <td>0.96</td>\n",
       "    </tr>\n",
       "    <tr>\n",
       "      <th>1807</th>\n",
       "      <td>Maintenance</td>\n",
       "      <td>0.96</td>\n",
       "    </tr>\n",
       "    <tr>\n",
       "      <th>1820</th>\n",
       "      <td>Maintenance</td>\n",
       "      <td>0.96</td>\n",
       "    </tr>\n",
       "    <tr>\n",
       "      <th>1838</th>\n",
       "      <td>Maintenance</td>\n",
       "      <td>0.96</td>\n",
       "    </tr>\n",
       "    <tr>\n",
       "      <th>1856</th>\n",
       "      <td>Maintenance</td>\n",
       "      <td>0.96</td>\n",
       "    </tr>\n",
       "  </tbody>\n",
       "</table>\n",
       "<p>247 rows × 2 columns</p>\n",
       "</div>"
      ],
      "text/plain": [
       "     Batch Status  Probability\n",
       "15    Maintenance         0.96\n",
       "16    Maintenance         0.96\n",
       "28    Maintenance         0.96\n",
       "29    Maintenance         0.96\n",
       "30    Maintenance         0.96\n",
       "...           ...          ...\n",
       "1799  Maintenance         0.96\n",
       "1807  Maintenance         0.96\n",
       "1820  Maintenance         0.96\n",
       "1838  Maintenance         0.96\n",
       "1856  Maintenance         0.96\n",
       "\n",
       "[247 rows x 2 columns]"
      ]
     },
     "execution_count": 53,
     "metadata": {},
     "output_type": "execute_result"
    }
   ],
   "source": [
    "# print batches with Batch status as Maintenance and their corresponding probability values\n",
    "df[df['Batch Status'] == 'Maintenance'][['Batch Status', 'Probability']]\n"
   ]
  },
  {
   "cell_type": "code",
   "execution_count": null,
   "metadata": {},
   "outputs": [],
   "source": []
  },
  {
   "cell_type": "code",
   "execution_count": 54,
   "metadata": {},
   "outputs": [
    {
     "name": "stdout",
     "output_type": "stream",
     "text": [
      "Best Threshold: 0.8\n",
      "Best Accuracy: 0.7043010752688172\n"
     ]
    }
   ],
   "source": [
    "#  take a threshold value and if the probability is less than threshold then it is failed\n",
    "# make a new row in test data with the new batch status and compare this with the actual batch status and get the accuracy\n",
    "# threshold = 0.8\n",
    "# vary threshold between 0.8 and 1 such that the accuracy is maximum\n",
    "threshold_values = np.arange(0.8, 1, 0.01)\n",
    "accuracy_values = []\n",
    "for threshold in threshold_values:\n",
    "    df['Predicted Batch Status'] = np.where(df['Probability'] < threshold, 'FAILED', 'OK')\n",
    "    accuracy = (df['Batch Status'] == df['Predicted Batch Status']).mean()\n",
    "    accuracy_values.append(accuracy)\n",
    "\n",
    "# Find the threshold value that gives the maximum accuracy\n",
    "best_threshold = threshold_values[np.argmax(accuracy_values)]\n",
    "best_accuracy = max(accuracy_values)\n",
    "# Output the best threshold value and corresponding accuracy\n",
    "print(\"Best Threshold:\", best_threshold)\n",
    "print(\"Best Accuracy:\", best_accuracy)\n"
   ]
  },
  {
   "cell_type": "code",
   "execution_count": 55,
   "metadata": {},
   "outputs": [
    {
     "name": "stdout",
     "output_type": "stream",
     "text": [
      "Confusion Matrix:\n",
      "Predicted Batch Status  FAILED    OK\n",
      "Batch Status                        \n",
      "FAILED                       3   103\n",
      "Maintenance                  0   247\n",
      "OK                         200  1307\n",
      "Precision: 0.014778325123152709\n",
      "Recall: 0.02830188679245283\n",
      "F1 Score: 0.019417475728155338\n"
     ]
    }
   ],
   "source": [
    "# get all the below values for the best threshold\n",
    "df['Predicted Batch Status'] = np.where(df['Probability'] < best_threshold, 'FAILED', 'OK')\n",
    "# get the confusion matrix\n",
    "confusion_matrix = pd.crosstab(df['Batch Status'], df['Predicted Batch Status'])\n",
    "print(\"Confusion Matrix:\")\n",
    "print(confusion_matrix)\n",
    "# get the precision and recall\n",
    "precision = confusion_matrix.loc['FAILED', 'FAILED'] / confusion_matrix['FAILED'].sum()\n",
    "recall = confusion_matrix.loc['FAILED', 'FAILED'] / confusion_matrix.loc['FAILED'].sum()\n",
    "print(\"Precision:\", precision)\n",
    "print(\"Recall:\", recall)\n",
    "# get the f1 score\n",
    "f1_score = 2 * precision * recall / (precision + recall)\n",
    "print(\"F1 Score:\", f1_score)\n"
   ]
  },
  {
   "cell_type": "code",
   "execution_count": 60,
   "metadata": {},
   "outputs": [
    {
     "name": "stdout",
     "output_type": "stream",
     "text": [
      "Threshold: 0.5, Accuracy: 0.8102150537634408\n",
      "Confusion Matrix:\n",
      "Predicted Batch Status    OK\n",
      "Batch Status                \n",
      "FAILED                   106\n",
      "Maintenance              247\n",
      "OK                      1507\n",
      "\n",
      "Threshold: 0.6, Accuracy: 0.8091397849462365\n",
      "Confusion Matrix:\n",
      "Predicted Batch Status  FAILED    OK\n",
      "Batch Status                        \n",
      "FAILED                       0   106\n",
      "Maintenance                  0   247\n",
      "OK                           2  1505\n",
      "\n",
      "Threshold: 0.7, Accuracy: 0.7903225806451613\n",
      "Confusion Matrix:\n",
      "Predicted Batch Status  FAILED    OK\n",
      "Batch Status                        \n",
      "FAILED                       0   106\n",
      "Maintenance                  0   247\n",
      "OK                          37  1470\n",
      "\n",
      "Threshold: 0.7999999999999999, Accuracy: 0.7043010752688172\n",
      "Confusion Matrix:\n",
      "Predicted Batch Status  FAILED    OK\n",
      "Batch Status                        \n",
      "FAILED                       3   103\n",
      "Maintenance                  0   247\n",
      "OK                         200  1307\n",
      "\n",
      "Threshold: 0.8999999999999999, Accuracy: 0.4489247311827957\n",
      "Confusion Matrix:\n",
      "Predicted Batch Status  FAILED   OK\n",
      "Batch Status                       \n",
      "FAILED                      31   75\n",
      "Maintenance                  0  247\n",
      "OK                         703  804\n",
      "\n"
     ]
    }
   ],
   "source": [
    "# keep threshold as 0.5 to 1 and get the accuracy values and corresponding confusion matrix\n",
    "threshold_values = np.arange(0.5, 1, 0.1)\n",
    "accuracy_values = []\n",
    "confusion_matrices = []\n",
    "for threshold in threshold_values:\n",
    "    df['Predicted Batch Status'] = np.where(df['Probability'] < threshold, 'FAILED', 'OK')\n",
    "    accuracy = (df['Batch Status'] == df['Predicted Batch Status']).mean()\n",
    "    accuracy_values.append(accuracy)\n",
    "    confusion_matrix = pd.crosstab(df['Batch Status'], df['Predicted Batch Status'])\n",
    "    confusion_matrices.append(confusion_matrix)\n",
    "\n",
    "\n",
    "# print the accuracy values and confusion matrices\n",
    "for threshold, accuracy, confusion_matrix in zip(threshold_values, accuracy_values, confusion_matrices):\n",
    "    print(f\"Threshold: {threshold}, Accuracy: {accuracy}\")\n",
    "    print(\"Confusion Matrix:\")\n",
    "    print(confusion_matrix)\n",
    "    print()"
   ]
  },
  {
   "cell_type": "code",
   "execution_count": 10,
   "metadata": {},
   "outputs": [
    {
     "data": {
      "image/png": "[encoded data removed]",
      "text/plain": [
       "<Figure size 1000x600 with 2 Axes>"
      ]
     },
     "metadata": {},
     "output_type": "display_data"
    }
   ],
   "source": [
    "# can you print the df using values at each particular a and p value from 0.01 to 1?\n",
    "# Iterate over all combinations of a and p and plot the output values on a scipy plot\n",
    "p_values = np.arange(0.01, 1, 0.01)\n",
    "a_values = np.arange(0.01, 1, 0.01)\n",
    "neg_log_likelihood_values = np.zeros((len(p_values), len(a_values)))\n",
    "# plot the values of the negative log likelihood for each combination of p and a\n",
    "for i, p in enumerate(p_values):\n",
    "    for j, a in enumerate(a_values):\n",
    "        neg_log_likelihood_values[i, j] = neg_log_likelihood(p, a)\n",
    "\n",
    "plt.figure(figsize=(10, 6))\n",
    "plt.imshow(neg_log_likelihood_values, extent=(0, 1, 0, 1), aspect='auto', origin='lower')\n",
    "plt.colorbar(label='Negative Log-Likelihood')\n",
    "plt.xlabel('a')\n",
    "plt.ylabel('p')\n",
    "plt.title('Negative Log-Likelihood for Different Values of p and a')\n",
    "plt.show()"
   ]
  },
  {
   "cell_type": "code",
   "execution_count": 7,
   "metadata": {},
   "outputs": [
    {
     "name": "stdout",
     "output_type": "stream",
     "text": [
      "Minimum Negative Log-Likelihood: 472.0766430934924\n",
      "Best Parameters (p, a): (0.9600000000000001, 0.99)\n"
     ]
    }
   ],
   "source": [
    "# print minimum negative log likelihood value and corresponding parameters\n",
    "print(\"Minimum Negative Log-Likelihood:\", min_neg_log_likelihood)\n",
    "print(\"Best Parameters (p, a):\", best_params)\n"
   ]
  },
  {
   "cell_type": "code",
   "execution_count": 8,
   "metadata": {},
   "outputs": [
    {
     "name": "stdout",
     "output_type": "stream",
     "text": [
      "Optimal Parameters (p, a): [0.93 1.  ]\n"
     ]
    },
    {
     "name": "stderr",
     "output_type": "stream",
     "text": [
      "C:\\Users\\91751\\AppData\\Local\\Temp\\ipykernel_19376\\3951318626.py:9: RuntimeWarning: divide by zero encountered in log\n",
      "  neg_log_likelihood_val -= np.log(1 - p)\n"
     ]
    }
   ],
   "source": [
    "# Use scipy's minimize function to find the optimal parameters\n",
    "initial_guess = [0.5, 0.5]  # Initial guess for p and a\n",
    "# bounds for x are between 0 and 1\n",
    "bounds = [(0, 1), (0, 1)]\n",
    "# Use Nelder-Mead method for optimization\n",
    "result = minimize(lambda x: neg_log_likelihood(*x), initial_guess, bounds=bounds, method='Nelder-Mead')\n",
    "# Output the optimal parameters\n",
    "# round to 2 decimals\n",
    "optimal_params = np.round(result.x, 2)\n",
    "print(\"Optimal Parameters (p, a):\", optimal_params)\n"
   ]
  },
  {
   "cell_type": "code",
   "execution_count": 11,
   "metadata": {},
   "outputs": [
    {
     "name": "stdout",
     "output_type": "stream",
     "text": [
      "Predicted Status for Next 10 Batches: ['OK', 'OK', 'OK', 'OK', 'OK', 'OK', 'OK', 'OK', 'OK', 'FAILED']\n"
     ]
    }
   ],
   "source": [
    "# now i want to predict the next 10 values of the batch status\n",
    "# Use the optimal parameters to predict the next 10 values of the batch status\n",
    "p, a = optimal_params\n",
    "predicted_status = []\n",
    "for i in range(10):\n",
    "    if np.random.rand() < p:\n",
    "        predicted_status.append('OK')\n",
    "        p *= a\n",
    "    else:\n",
    "        predicted_status.append('FAILED')\n",
    "\n",
    "print(\"Predicted Status for Next 10 Batches:\", predicted_status)\n"
   ]
  },
  {
   "cell_type": "code",
   "execution_count": null,
   "metadata": {},
   "outputs": [],
   "source": []
  }
 ],
 "metadata": {
  "kernelspec": {
   "display_name": "base",
   "language": "python",
   "name": "python3"
  },
  "language_info": {
   "codemirror_mode": {
    "name": "ipython",
    "version": 3
   },
   "file_extension": ".py",
   "mimetype": "text/x-python",
   "name": "python",
   "nbconvert_exporter": "python",
   "pygments_lexer": "ipython3",
   "version": "3.9.13"
  }
 },
 "nbformat": 4,
 "nbformat_minor": 2
}
