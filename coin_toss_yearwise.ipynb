{
 "cells": [
  {
   "cell_type": "code",
   "execution_count": 1,
   "metadata": {},
   "outputs": [],
   "source": [
    "import numpy as np\n",
    "import matplotlib.pyplot as plt\n",
    "import pandas as pd\n",
    "from scipy.optimize import minimize"
   ]
  },
  {
   "cell_type": "code",
   "execution_count": 2,
   "metadata": {},
   "outputs": [
    {
     "data": {
      "text/html": [
       "<div>\n",
       "<style scoped>\n",
       "    .dataframe tbody tr th:only-of-type {\n",
       "        vertical-align: middle;\n",
       "    }\n",
       "\n",
       "    .dataframe tbody tr th {\n",
       "        vertical-align: top;\n",
       "    }\n",
       "\n",
       "    .dataframe thead th {\n",
       "        text-align: right;\n",
       "    }\n",
       "</style>\n",
       "<table border=\"1\" class=\"dataframe\">\n",
       "  <thead>\n",
       "    <tr style=\"text-align: right;\">\n",
       "      <th></th>\n",
       "      <th>Batch Status</th>\n",
       "      <th>Cycle End Time</th>\n",
       "      <th>DataLabel</th>\n",
       "      <th>Program Number</th>\n",
       "    </tr>\n",
       "  </thead>\n",
       "  <tbody>\n",
       "    <tr>\n",
       "      <th>0</th>\n",
       "      <td>FAILED</td>\n",
       "      <td>2019-01-09 09:42:00</td>\n",
       "      <td>1</td>\n",
       "      <td>8</td>\n",
       "    </tr>\n",
       "    <tr>\n",
       "      <th>1</th>\n",
       "      <td>OK</td>\n",
       "      <td>2019-01-09 11:30:00</td>\n",
       "      <td>2</td>\n",
       "      <td>8</td>\n",
       "    </tr>\n",
       "    <tr>\n",
       "      <th>2</th>\n",
       "      <td>OK</td>\n",
       "      <td>2019-01-09 12:32:00</td>\n",
       "      <td>3</td>\n",
       "      <td>3</td>\n",
       "    </tr>\n",
       "    <tr>\n",
       "      <th>3</th>\n",
       "      <td>OK</td>\n",
       "      <td>2019-01-09 14:00:00</td>\n",
       "      <td>4</td>\n",
       "      <td>11</td>\n",
       "    </tr>\n",
       "    <tr>\n",
       "      <th>4</th>\n",
       "      <td>OK</td>\n",
       "      <td>2019-01-09 16:10:00</td>\n",
       "      <td>5</td>\n",
       "      <td>10</td>\n",
       "    </tr>\n",
       "  </tbody>\n",
       "</table>\n",
       "</div>"
      ],
      "text/plain": [
       "  Batch Status       Cycle End Time  DataLabel  Program Number\n",
       "0       FAILED  2019-01-09 09:42:00          1               8\n",
       "1           OK  2019-01-09 11:30:00          2               8\n",
       "2           OK  2019-01-09 12:32:00          3               3\n",
       "3           OK  2019-01-09 14:00:00          4              11\n",
       "4           OK  2019-01-09 16:10:00          5              10"
      ]
     },
     "execution_count": 2,
     "metadata": {},
     "output_type": "execute_result"
    }
   ],
   "source": [
    "df = pd.read_csv('OK FAIL DATE.csv')\n",
    "df.head()"
   ]
  },
  {
   "cell_type": "code",
   "execution_count": 3,
   "metadata": {},
   "outputs": [],
   "source": [
    "# rename cycle end time as Time\n",
    "df.rename(columns={'Cycle End Time': 'Time'}, inplace=True)"
   ]
  },
  {
   "cell_type": "code",
   "execution_count": null,
   "metadata": {},
   "outputs": [],
   "source": []
  },
  {
   "cell_type": "code",
   "execution_count": 4,
   "metadata": {},
   "outputs": [
    {
     "name": "stdout",
     "output_type": "stream",
     "text": [
      "2019-01-09 09:42:00\n",
      "2021-04-05 16:43:00\n"
     ]
    }
   ],
   "source": [
    "# get time for datalabel 1 and time for last datalabel in the df and print them\n",
    "time1 = df.loc[df['DataLabel'] == 1, 'Time'].values[0]\n",
    "time2 = df.loc[df['DataLabel'] == 1860, 'Time'].values[0]\n",
    "print(time1)\n",
    "print(time2)\n",
    "# the format of date is yyyy-mm-dd hh:mm:ss"
   ]
  },
  {
   "cell_type": "code",
   "execution_count": 5,
   "metadata": {},
   "outputs": [],
   "source": [
    "# Convert 'Time' column to datetime format\n",
    "df['Time'] = pd.to_datetime(df['Time'])\n",
    "\n",
    "# Extract year from datetime and create a new column\n",
    "df['Year'] = df['Time'].dt.year\n"
   ]
  },
  {
   "cell_type": "code",
   "execution_count": 6,
   "metadata": {},
   "outputs": [],
   "source": [
    "def neg_log_likelihood(p, a, year):\n",
    "    initial_p = p\n",
    "    neg_log_likelihood_val = 0\n",
    "    prev_status = 0\n",
    "    for status in df[df['Year'] == year]['Batch Status']:  # Filter DataFrame based on year\n",
    "        if status == 'FAILED': \n",
    "            neg_log_likelihood_val -= np.log(1 - p)\n",
    "            p *= a \n",
    "        elif status == 'OK': \n",
    "            neg_log_likelihood_val -= np.log(p)\n",
    "            p *= a  \n",
    "        elif status == 'Maintenance': \n",
    "            p = initial_p  \n",
    "        prev_status = status\n",
    "    return neg_log_likelihood_val"
   ]
  },
  {
   "cell_type": "code",
   "execution_count": 7,
   "metadata": {},
   "outputs": [
    {
     "name": "stdout",
     "output_type": "stream",
     "text": [
      "Year: 2019, Best Parameters (p, a): (0.8300000000000001, 0.99)\n",
      "Year: 2020, Best Parameters (p, a): (0.97, 0.99)\n",
      "Year: 2021, Best Parameters (p, a): (0.99, 0.99)\n"
     ]
    }
   ],
   "source": [
    "a_values = np.arange(0.01, 1, 0.01)\n",
    "p_values = np.arange(0.01, 1, 0.01)\n",
    "unique_years = df['Year'].unique()\n",
    "# Initialize variables to store the best parameters for each year\n",
    "best_params_by_year = {}\n",
    "\n",
    "# Iterate over unique years\n",
    "for year in unique_years:\n",
    "    # Initialize variables to store the minimum negative log-likelihood value and corresponding parameters for the current year\n",
    "    min_neg_log_likelihood_year = float('inf')\n",
    "    best_params_year = None\n",
    "    \n",
    "    # Iterate over all combinations of a and p for the current year\n",
    "    for a in a_values:\n",
    "        for p in p_values:\n",
    "            # Calculate negative log-likelihood for current parameters and current year\n",
    "            current_neg_log_likelihood = neg_log_likelihood(p, a, year)\n",
    "\n",
    "            # Check if current negative log-likelihood is smaller than minimum found so far for the current year\n",
    "            if current_neg_log_likelihood < min_neg_log_likelihood_year:\n",
    "                min_neg_log_likelihood_year = current_neg_log_likelihood\n",
    "                best_params_year = (p, a)\n",
    "    \n",
    "    # Store the best parameters for the current year\n",
    "    best_params_by_year[year] = best_params_year\n",
    "\n",
    "# Output the best parameters for each year\n",
    "for year, params in best_params_by_year.items():\n",
    "    print(f\"Year: {year}, Best Parameters (p, a): {params}\")\n"
   ]
  },
  {
   "cell_type": "code",
   "execution_count": null,
   "metadata": {},
   "outputs": [],
   "source": []
  }
 ],
 "metadata": {
  "kernelspec": {
   "display_name": "base",
   "language": "python",
   "name": "python3"
  },
  "language_info": {
   "codemirror_mode": {
    "name": "ipython",
    "version": 3
   },
   "file_extension": ".py",
   "mimetype": "text/x-python",
   "name": "python",
   "nbconvert_exporter": "python",
   "pygments_lexer": "ipython3",
   "version": "3.9.13"
  }
 },
 "nbformat": 4,
 "nbformat_minor": 2
}
